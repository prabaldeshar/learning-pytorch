{
 "cells": [
  {
   "cell_type": "markdown",
   "metadata": {},
   "source": [
    "### Differentation in Pytorch\n",
    "\n",
    "$y(x) = x^2$\n",
    "\n",
    "Calculating the derivative of the above equation in pytorch \n",
    "`requires_grad=True` tells pytorch we would by using evaluating functions and derivates of x using this value of x.\n",
    "To calulate the derivate we call the `backward()` function.\n",
    "`grad` gives the value after differentiaiton\n"
   ]
  },
  {
   "cell_type": "code",
   "execution_count": 5,
   "metadata": {},
   "outputs": [
    {
     "name": "stdout",
     "output_type": "stream",
     "text": [
      "\n"
     ]
    },
    {
     "data": {
      "text/plain": [
       "tensor(4.)"
      ]
     },
     "execution_count": 5,
     "metadata": {},
     "output_type": "execute_result"
    }
   ],
   "source": [
    "import torch\n",
    "\n",
    "x = torch.tensor(2., requires_grad=True) # value 2 denotes that we will calcualte the derivative at the value x =2\n",
    "y = x**2\n",
    "\n",
    "y.backward() #First calulates the derivative of y and evaluates it at the value x=2\n",
    "print()\n",
    "x.grad #takes the value of x=2 and plugs it in y's derivative\n",
    " "
   ]
  },
  {
   "cell_type": "markdown",
   "metadata": {},
   "source": [
    "### Partial derivatives\n",
    "\n",
    "$f(u, v) = uv + u^2$\n",
    "<br>\n",
    "$\\frac{ \\delta f(u, v)}{\\delta u} = v + 2u$ $\\frac{ \\delta f(u, v)}{\\delta v} = u$"
   ]
  },
  {
   "cell_type": "code",
   "execution_count": 6,
   "metadata": {},
   "outputs": [
    {
     "name": "stdout",
     "output_type": "stream",
     "text": [
      "Derivative of f wrt u tensor(4.)\n",
      "Derivative of f wrt v tensor(1.)\n"
     ]
    }
   ],
   "source": [
    "u = torch.tensor(1., requires_grad=True)\n",
    "v = torch.tensor(2., requires_grad=True)\n",
    "\n",
    "f = u*v + u**2\n",
    "\n",
    "f.backward()\n",
    "\n",
    "print(\"Derivative of f wrt u\", u.grad)\n",
    "print(\"Derivative of f wrt v\", v.grad)"
   ]
  }
 ],
 "metadata": {
  "kernelspec": {
   "display_name": "Python 3.8.10 ('env')",
   "language": "python",
   "name": "python3"
  },
  "language_info": {
   "codemirror_mode": {
    "name": "ipython",
    "version": 3
   },
   "file_extension": ".py",
   "mimetype": "text/x-python",
   "name": "python",
   "nbconvert_exporter": "python",
   "pygments_lexer": "ipython3",
   "version": "3.8.10"
  },
  "orig_nbformat": 4,
  "vscode": {
   "interpreter": {
    "hash": "eb6fa1767a1e71d85bec8c42f873ca19270f8f93bde4e75d65e361f3717e7f94"
   }
  }
 },
 "nbformat": 4,
 "nbformat_minor": 2
}
